{
 "cells": [
  {
   "cell_type": "code",
   "execution_count": null,
   "id": "7d5b7a8d",
   "metadata": {},
   "outputs": [],
   "source": [
    "1.Write a Python Program to find sum of elements in a list ?"
   ]
  },
  {
   "cell_type": "code",
   "execution_count": 4,
   "id": "31ab6238",
   "metadata": {},
   "outputs": [
    {
     "name": "stdout",
     "output_type": "stream",
     "text": [
      "Enter the number of entries in a List5\n",
      "Enter the element10\n",
      "Enter the element10\n",
      "Enter the element10\n",
      "Enter the element10\n",
      "Enter the element10\n",
      "sum of Element:50\n"
     ]
    }
   ],
   "source": [
    "def Sum_of_Element():\n",
    "    e = int(input(\"Enter the number of entries in a List\"))\n",
    "    list = []\n",
    "    for i in range(e):\n",
    "        n =int(input(\"Enter the element\"))\n",
    "        list.append(n)\n",
    "    print(f'sum of Element:{sum(list)}')\n",
    "          \n",
    "Sum_of_Element()          "
   ]
  },
  {
   "cell_type": "code",
   "execution_count": null,
   "id": "fa697238",
   "metadata": {},
   "outputs": [],
   "source": [
    "2.Write a Python Program to multiply all numbers in the list ?"
   ]
  },
  {
   "cell_type": "code",
   "execution_count": 8,
   "id": "6ece818b",
   "metadata": {},
   "outputs": [
    {
     "name": "stdout",
     "output_type": "stream",
     "text": [
      "Enter the number of Entries in a list4\n",
      "Enter a element: 4\n",
      "Enter a element: 4\n",
      "Enter a element: 4\n",
      "Enter a element: 4\n",
      "256\n"
     ]
    }
   ],
   "source": [
    "def mulofList():\n",
    "    NUm_ele = int(input(\"Enter the number of Entries in a list\"))\n",
    "    list =[]\n",
    "    mul =1\n",
    "    for i in range(NUm_ele):\n",
    "        num = int(input('Enter a element: '))\n",
    "        list.append(num)\n",
    "    for j in list:\n",
    "        mul =  mul*j\n",
    "    print(mul)\n",
    "    \n",
    "mulofList()    \n",
    "    "
   ]
  },
  {
   "cell_type": "code",
   "execution_count": null,
   "id": "8f7d24fe",
   "metadata": {},
   "outputs": [],
   "source": [
    "3.Write a Python Program to find smallest number in the list ?"
   ]
  },
  {
   "cell_type": "code",
   "execution_count": 9,
   "id": "a96964c2",
   "metadata": {},
   "outputs": [
    {
     "name": "stdout",
     "output_type": "stream",
     "text": [
      "Enter the No of elements in a list: 4\n",
      "Enter a element: 85\n",
      "Enter a element: 14\n",
      "Enter a element: 52\n",
      "Enter a element: 65\n",
      "The smallest element in [85, 14, 52, 65] is 14\n"
     ]
    }
   ],
   "source": [
    "def smallEleInList():\n",
    "    ele = int(input('Enter the No of elements in a list: '))\n",
    "    list = []\n",
    "    for i in range(ele):\n",
    "        num = int(input('Enter a element: '))\n",
    "        list.append(num)\n",
    "    print(f'The smallest element in {list} is {sorted(list)[0]}')\n",
    "    \n",
    "smallEleInList()    "
   ]
  },
  {
   "cell_type": "code",
   "execution_count": null,
   "id": "3fa662f5",
   "metadata": {},
   "outputs": [],
   "source": [
    "4.Write a Python Program to find largest number in the list ?"
   ]
  },
  {
   "cell_type": "code",
   "execution_count": 11,
   "id": "65ff3415",
   "metadata": {},
   "outputs": [
    {
     "name": "stdout",
     "output_type": "stream",
     "text": [
      "Enter the no of element in list5\n",
      "Enter the number15\n",
      "Enter the number1556\n",
      "Enter the number25\n",
      "Enter the number25\n",
      "Enter the number325\n",
      "The largest Element in [15, 1556, 25, 25, 325] is 1556\n"
     ]
    }
   ],
   "source": [
    "def largenuymber():\n",
    "    ele = int(input(\"Enter the no of element in list\"))\n",
    "    list = []\n",
    "    for i in range(ele):\n",
    "        num = int(input(\"Enter the number\"))\n",
    "        list.append(num)\n",
    "    print(f'The largest Element in {list} is {sorted(list, reverse=True)[0]}')  \n",
    "    \n",
    "largenuymber()    "
   ]
  },
  {
   "cell_type": "code",
   "execution_count": null,
   "id": "eb69baad",
   "metadata": {},
   "outputs": [],
   "source": [
    "5.Write a Python Program to find second largest number in the list ?"
   ]
  },
  {
   "cell_type": "code",
   "execution_count": null,
   "id": "d6f7ac5f",
   "metadata": {},
   "outputs": [],
   "source": [
    "\n",
    "def secondLargestEleInList():\n",
    "    in_ele = int(input('Enter the No of elements in a list: '))\n",
    "    in_list = []\n",
    "    for ele in range(in_ele):\n",
    "        in_list.append(int(input('Enter a Element: ')))\n",
    "    print(f'The Second Largest Element in {in_list} is {sorted(in_list, reverse=True)[1]}')\n",
    "\n",
    "secondLargestEleInList()"
   ]
  },
  {
   "cell_type": "code",
   "execution_count": null,
   "id": "6e67254d",
   "metadata": {},
   "outputs": [],
   "source": [
    "6.Write a Python Program to find N largest elements in the list ?"
   ]
  },
  {
   "cell_type": "code",
   "execution_count": 18,
   "id": "7e58c66b",
   "metadata": {},
   "outputs": [
    {
     "name": "stdout",
     "output_type": "stream",
     "text": [
      "Enter the No of elements in a list:10\n",
      "Enter the number1\n",
      "Enter the number2\n",
      "Enter the number3\n",
      "Enter the number4\n",
      "Enter the number5\n",
      "Enter the number6\n",
      "Enter the number7\n",
      "Enter the number8\n",
      "Enter the number9\n",
      "Enter the number10\n",
      "The 4 Largest Element in [1, 2, 3, 4, 5, 6, 7, 8, 9, 10] is [10, 9, 8, 7]\n"
     ]
    }
   ],
   "source": [
    "def N_largest_elements(k):\n",
    "    ele = int(input(\"Enter the No of elements in a list:\"))\n",
    "    list = []\n",
    "    for i in range(ele):\n",
    "        num = int(input(\"Enter the number\"))\n",
    "        list.append(num)\n",
    "    print(f'The {k} Largest Element in {list} is {sorted(list, reverse=True)[0:k]}')\n",
    "N_largest_elements(4)    "
   ]
  },
  {
   "cell_type": "code",
   "execution_count": null,
   "id": "828b4155",
   "metadata": {},
   "outputs": [],
   "source": [
    "7.Write a Python Program to find even numbers in the list ?"
   ]
  },
  {
   "cell_type": "code",
   "execution_count": 25,
   "id": "380da9b5",
   "metadata": {},
   "outputs": [
    {
     "name": "stdout",
     "output_type": "stream",
     "text": [
      "Enter the no of element in a list: 6\n",
      "Enter the number1\n",
      "Enter the number2\n",
      "Enter the number3\n",
      "Enter the number4\n",
      "Enter the number5\n",
      "Enter the number6\n",
      "The even Element in [1, 2, 3, 4, 5, 6] are [2, 4, 6]\n"
     ]
    }
   ],
   "source": [
    "def Enuminlist():\n",
    "    num = int(input(\"Enter the no of element in a list: \"))\n",
    "    ilist =[]\n",
    "    Elist = []\n",
    "    for i in range(num):\n",
    "        num1 =int(input(\"Enter the number\"))\n",
    "        ilist.append(num1)\n",
    "    for i in ilist:\n",
    "        if i%2 ==0:\n",
    "            Elist.append(i)\n",
    "    print(f'The even Element in {ilist} are {Elist}')\n",
    "Enuminlist()    "
   ]
  },
  {
   "cell_type": "code",
   "execution_count": null,
   "id": "8afd5bbb",
   "metadata": {},
   "outputs": [],
   "source": [
    "8.Write a Python Program to find odd numbers in the list ?"
   ]
  },
  {
   "cell_type": "code",
   "execution_count": 29,
   "id": "b7d3d930",
   "metadata": {},
   "outputs": [
    {
     "name": "stdout",
     "output_type": "stream",
     "text": [
      "Enter the number 6\n",
      "Enter the number1\n",
      "Enter the number2\n",
      "Enter the number3\n",
      "Enter the number4\n",
      "Enter the number5\n",
      "Enter the number6\n",
      "The even Element in [1, 2, 3, 4, 5, 6] are [1, 3, 5]\n"
     ]
    }
   ],
   "source": [
    "def oddnumber():\n",
    "    num = int(input(\"Enter the number \"))\n",
    "    Olist = []\n",
    "    INlist = []\n",
    "    for i in range(num):\n",
    "        num1 = int(input(\"Enter the number\"))\n",
    "        INlist.append(num1)\n",
    "    for i in INlist:\n",
    "        if i%2 != 0:\n",
    "            Olist.append(i)\n",
    "    print(f'The even Element in {INlist} are {Olist}')\n",
    "    \n",
    "oddnumber()    "
   ]
  },
  {
   "cell_type": "code",
   "execution_count": null,
   "id": "03a12184",
   "metadata": {},
   "outputs": [],
   "source": [
    "9.Write a Python Program to remove empty list from list ?"
   ]
  },
  {
   "cell_type": "code",
   "execution_count": null,
   "id": "f5e2390a",
   "metadata": {},
   "outputs": [],
   "source": [
    "def empty_list_remove(input_list):\n",
    "    new_list = []\n",
    "    for ele in input_list:\n",
    "        if ele:\n",
    "            new_list.append(ele)\n",
    "    return new_list\n",
    "\n",
    "input_list = [5, 6, [], 3, [], [], 9]\n",
    "print(f\"The original list is : {input_list}\")\n",
    "print(f\"List after empty list removal : {empty_list_remove(input_list)}\")"
   ]
  },
  {
   "cell_type": "code",
   "execution_count": null,
   "id": "f7d0e132",
   "metadata": {},
   "outputs": [],
   "source": [
    "10.Write a Python Program to Cloning or Copying a list ?"
   ]
  },
  {
   "cell_type": "code",
   "execution_count": 35,
   "id": "d9bbcdf7",
   "metadata": {},
   "outputs": [
    {
     "name": "stdout",
     "output_type": "stream",
     "text": [
      "Enter a list1\n",
      "1 2601234098480\n"
     ]
    },
    {
     "ename": "AttributeError",
     "evalue": "'int' object has no attribute 'copy'",
     "output_type": "error",
     "traceback": [
      "\u001b[1;31m---------------------------------------------------------------------------\u001b[0m",
      "\u001b[1;31mAttributeError\u001b[0m                            Traceback (most recent call last)",
      "\u001b[1;32m~\\AppData\\Local\\Temp/ipykernel_28456/4244599494.py\u001b[0m in \u001b[0;36m<module>\u001b[1;34m\u001b[0m\n\u001b[0;32m      7\u001b[0m     \u001b[0mprint\u001b[0m\u001b[1;33m(\u001b[0m\u001b[0mcloned_list\u001b[0m\u001b[1;33m,\u001b[0m \u001b[0mid\u001b[0m\u001b[1;33m(\u001b[0m\u001b[0mcloned_list\u001b[0m\u001b[1;33m)\u001b[0m\u001b[1;33m)\u001b[0m\u001b[1;33m\u001b[0m\u001b[1;33m\u001b[0m\u001b[0m\n\u001b[0;32m      8\u001b[0m \u001b[1;33m\u001b[0m\u001b[0m\n\u001b[1;32m----> 9\u001b[1;33m \u001b[0mcloneList\u001b[0m\u001b[1;33m(\u001b[0m\u001b[1;33m)\u001b[0m\u001b[1;33m\u001b[0m\u001b[1;33m\u001b[0m\u001b[0m\n\u001b[0m",
      "\u001b[1;32m~\\AppData\\Local\\Temp/ipykernel_28456/4244599494.py\u001b[0m in \u001b[0;36mcloneList\u001b[1;34m()\u001b[0m\n\u001b[0;32m      4\u001b[0m     \u001b[0min_list\u001b[0m \u001b[1;33m=\u001b[0m \u001b[0meval\u001b[0m\u001b[1;33m(\u001b[0m\u001b[0minput\u001b[0m\u001b[1;33m(\u001b[0m\u001b[1;34m'Enter a list'\u001b[0m\u001b[1;33m)\u001b[0m\u001b[1;33m)\u001b[0m\u001b[1;33m\u001b[0m\u001b[1;33m\u001b[0m\u001b[0m\n\u001b[0;32m      5\u001b[0m     \u001b[0mprint\u001b[0m\u001b[1;33m(\u001b[0m\u001b[0min_list\u001b[0m\u001b[1;33m,\u001b[0m \u001b[0mid\u001b[0m\u001b[1;33m(\u001b[0m\u001b[0min_list\u001b[0m\u001b[1;33m)\u001b[0m\u001b[1;33m)\u001b[0m\u001b[1;33m\u001b[0m\u001b[1;33m\u001b[0m\u001b[0m\n\u001b[1;32m----> 6\u001b[1;33m     \u001b[0mcloned_list\u001b[0m \u001b[1;33m=\u001b[0m \u001b[0min_list\u001b[0m\u001b[1;33m.\u001b[0m\u001b[0mcopy\u001b[0m\u001b[1;33m(\u001b[0m\u001b[1;33m)\u001b[0m\u001b[1;33m\u001b[0m\u001b[1;33m\u001b[0m\u001b[0m\n\u001b[0m\u001b[0;32m      7\u001b[0m     \u001b[0mprint\u001b[0m\u001b[1;33m(\u001b[0m\u001b[0mcloned_list\u001b[0m\u001b[1;33m,\u001b[0m \u001b[0mid\u001b[0m\u001b[1;33m(\u001b[0m\u001b[0mcloned_list\u001b[0m\u001b[1;33m)\u001b[0m\u001b[1;33m)\u001b[0m\u001b[1;33m\u001b[0m\u001b[1;33m\u001b[0m\u001b[0m\n\u001b[0;32m      8\u001b[0m \u001b[1;33m\u001b[0m\u001b[0m\n",
      "\u001b[1;31mAttributeError\u001b[0m: 'int' object has no attribute 'copy'"
     ]
    }
   ],
   "source": [
    "import copy\n",
    "\n",
    "def cloneList():\n",
    "    in_list = eval(input('Enter a list'))\n",
    "    print(in_list, id(in_list))\n",
    "    cloned_list = in_list.copy()\n",
    "    print(cloned_list, id(cloned_list))\n",
    "\n",
    "cloneList()"
   ]
  },
  {
   "cell_type": "code",
   "execution_count": null,
   "id": "cd4c2484",
   "metadata": {},
   "outputs": [],
   "source": [
    "11.Write a Python Program to count occurences of an element in a list ?"
   ]
  },
  {
   "cell_type": "code",
   "execution_count": null,
   "id": "8589dc21",
   "metadata": {},
   "outputs": [],
   "source": [
    "def checkOccurence():\n",
    "    in_list = eval(input('Enter the elements of the list: '))\n",
    "    in_num = eval(input('Enter the element to find: '))\n",
    "    count = 0\n",
    "    if in_num in in_list:\n",
    "        for ele in in_list:\n",
    "            if ele == in_num:\n",
    "                count = count+1\n",
    "    print(f'There are {count} occurences of {in_num} in {in_list}')\n",
    "    \n",
    "checkOccurence()\n"
   ]
  },
  {
   "cell_type": "code",
   "execution_count": null,
   "id": "8a889601",
   "metadata": {},
   "outputs": [],
   "source": []
  },
  {
   "cell_type": "code",
   "execution_count": null,
   "id": "1a0f7533",
   "metadata": {},
   "outputs": [],
   "source": []
  }
 ],
 "metadata": {
  "kernelspec": {
   "display_name": "Python 3 (ipykernel)",
   "language": "python",
   "name": "python3"
  },
  "language_info": {
   "codemirror_mode": {
    "name": "ipython",
    "version": 3
   },
   "file_extension": ".py",
   "mimetype": "text/x-python",
   "name": "python",
   "nbconvert_exporter": "python",
   "pygments_lexer": "ipython3",
   "version": "3.9.7"
  }
 },
 "nbformat": 4,
 "nbformat_minor": 5
}
