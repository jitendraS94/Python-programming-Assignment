{
 "cells": [
  {
   "cell_type": "code",
   "execution_count": null,
   "id": "105e7ee3",
   "metadata": {},
   "outputs": [],
   "source": [
    "Q1. What is the concept of a metaclass?"
   ]
  },
  {
   "cell_type": "code",
   "execution_count": null,
   "id": "85a73f38",
   "metadata": {},
   "outputs": [],
   "source": [
    "Ans: Metaclass in Python is a class of a class that defines how a class behaves. A class is itself a instance of Metaclass, and any Instance of Class in Python is an Instance of type metaclass. E.g. Type of of int, str, float, list, tuple and many more is of metaclass type."
   ]
  },
  {
   "cell_type": "code",
   "execution_count": null,
   "id": "d2e8ff35",
   "metadata": {},
   "outputs": [],
   "source": [
    "Q2. What is the best way to declare a class's metaclass?"
   ]
  },
  {
   "cell_type": "code",
   "execution_count": null,
   "id": "658c7c7e",
   "metadata": {},
   "outputs": [],
   "source": [
    "Ans: A way to declare a class’ metaclass is by using metaclass keyword in class definition.\n"
   ]
  },
  {
   "cell_type": "code",
   "execution_count": null,
   "id": "0dd70d32",
   "metadata": {},
   "outputs": [],
   "source": [
    "class meta(type):\n",
    "    pass\n",
    "class class_meta(metaclass=meta):\n",
    "    pass\n",
    "print(type(meta))\n",
    "print(type(class_meta))\n",
    "<class 'type'>\n",
    "<class '__main__.meta'"
   ]
  },
  {
   "cell_type": "code",
   "execution_count": null,
   "id": "39814a75",
   "metadata": {},
   "outputs": [],
   "source": [
    "Q3. How do class decorators overlap with metaclasses for handling classes ?\n"
   ]
  },
  {
   "cell_type": "code",
   "execution_count": null,
   "id": "3dda005d",
   "metadata": {},
   "outputs": [],
   "source": [
    "Ans: Anything you can do with a class decorator, you can of course do with a custom metaclasses (just apply the functionality of the \"decorator function\", i.e., the one that takes a class object and modifies it, in the course of the metaclass's __new__ or __init__ that make the class object!).\n"
   ]
  },
  {
   "cell_type": "code",
   "execution_count": null,
   "id": "dd140251",
   "metadata": {},
   "outputs": [],
   "source": [
    "\n",
    "Q4. How do class decorators overlap with metaclasses for handling instances?\n"
   ]
  },
  {
   "cell_type": "code",
   "execution_count": null,
   "id": "900d47b6",
   "metadata": {},
   "outputs": [],
   "source": [
    "Ans: Anything you can do with a class decorator, you can of course do with a custom metaclass (just apply the functionality of the \"decorator function\", i.e., the one that takes a class object and modifies it, in the course of the metaclass's __new__ or __init__ that make the class object!)."
   ]
  }
 ],
 "metadata": {
  "kernelspec": {
   "display_name": "Python 3 (ipykernel)",
   "language": "python",
   "name": "python3"
  },
  "language_info": {
   "codemirror_mode": {
    "name": "ipython",
    "version": 3
   },
   "file_extension": ".py",
   "mimetype": "text/x-python",
   "name": "python",
   "nbconvert_exporter": "python",
   "pygments_lexer": "ipython3",
   "version": "3.9.7"
  }
 },
 "nbformat": 4,
 "nbformat_minor": 5
}
