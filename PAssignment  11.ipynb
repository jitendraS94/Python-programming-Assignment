{
 "cells": [
  {
   "cell_type": "code",
   "execution_count": null,
   "id": "da81b011",
   "metadata": {},
   "outputs": [],
   "source": [
    "1. Write a Python program to find words which are greater than given length k ?"
   ]
  },
  {
   "cell_type": "code",
   "execution_count": 1,
   "id": "d622c25a",
   "metadata": {},
   "outputs": [
    {
     "name": "stdout",
     "output_type": "stream",
     "text": [
      "Enter the stringINeuron Full Stack Data Science Course is Awesome\n",
      "Enter the length of the string :4\n",
      "INeuron,Stack,Science,Course,Awesome\n"
     ]
    }
   ],
   "source": [
    "def checkLengthOfString():\n",
    "    in_string =input(\"Enter the string\")\n",
    "    in_length = int(input(\"Enter the length of the string :\"))\n",
    "    out_string = []\n",
    "    for string in  in_string.split(\" \"):\n",
    "        if len(string) > in_length:\n",
    "            out_string.append(string)\n",
    "    print(\",\".join(out_string))\n",
    "    \n",
    "checkLengthOfString()   "
   ]
  },
  {
   "cell_type": "code",
   "execution_count": null,
   "id": "e774548e",
   "metadata": {},
   "outputs": [],
   "source": [
    "2. Write a Python program for removing i-th character from a string ?"
   ]
  },
  {
   "cell_type": "code",
   "execution_count": 3,
   "id": "d1afde8b",
   "metadata": {},
   "outputs": [
    {
     "name": "stdout",
     "output_type": "stream",
     "text": [
      "Enter the string : ineuron\n",
      "Enter the ith character: 2\n",
      " inuron\n"
     ]
    }
   ],
   "source": [
    "def removecharacte():\n",
    "    in_string = input(\"Enter the string : \")\n",
    "    in_char_num  = int(input(\"Enter the ith character: \"))\n",
    "    out_string = \" \"\n",
    "    for i in range(len(in_string)):\n",
    "        if i  != in_char_num:\n",
    "            out_string = out_string + in_string[i]\n",
    "    print(out_string) \n",
    "    \n",
    "removecharacte()    "
   ]
  },
  {
   "cell_type": "code",
   "execution_count": null,
   "id": "c9919dd3",
   "metadata": {},
   "outputs": [],
   "source": [
    "3. Write a Python program to split and join a string ?"
   ]
  },
  {
   "cell_type": "code",
   "execution_count": 4,
   "id": "7d2aebff",
   "metadata": {},
   "outputs": [
    {
     "name": "stdout",
     "output_type": "stream",
     "text": [
      "Enter the sringIneuron Full Stack Data Science Course\n",
      "split string: ['Ineuron', 'Full', 'Stack', 'Data', 'Science', 'Course']\n",
      "join string: Ineuron Full Stack Data Science Course\n"
     ]
    }
   ],
   "source": [
    "def splitJoinString():\n",
    "    in_string  = input(\"Enter the sring\")\n",
    "    print(f\"split string: {in_string.split(' ')}\")\n",
    "    print(f\"join string: {' '.join(in_string.split(' '))}\")\n",
    "    \n",
    "splitJoinString()    \n"
   ]
  },
  {
   "cell_type": "code",
   "execution_count": null,
   "id": "504ce8d0",
   "metadata": {},
   "outputs": [],
   "source": [
    "4. Write a Python to check if a given string is binary string or not ?"
   ]
  },
  {
   "cell_type": "code",
   "execution_count": 5,
   "id": "34ccbbb3",
   "metadata": {},
   "outputs": [
    {
     "name": "stdout",
     "output_type": "stream",
     "text": [
      "Enter the string1234\n",
      "1234 is not a binart string\n",
      "Enter the string10101010\n",
      "10101010 is a binary string\n"
     ]
    }
   ],
   "source": [
    "def checkBinary():\n",
    "    in_string = input(\"Enter the string\")\n",
    "    stun = 0\n",
    "    for i in in_string:\n",
    "        if i in ['0','1']:\n",
    "            stun = 1\n",
    "            continue\n",
    "        else:\n",
    "            stun = 0\n",
    "            break\n",
    "    statement =    'is a binary string' if stun == 1 else 'is not a binart string' \n",
    "    print(f'{in_string} {statement}')\n",
    "    \n",
    "checkBinary()\n",
    "checkBinary()"
   ]
  },
  {
   "cell_type": "code",
   "execution_count": null,
   "id": "6760cde9",
   "metadata": {},
   "outputs": [],
   "source": [
    "5. Write a Python program to find uncommon words from two Strings ?"
   ]
  },
  {
   "cell_type": "code",
   "execution_count": null,
   "id": "203b76f2",
   "metadata": {},
   "outputs": [],
   "source": [
    "def unCommonWords():\n",
    "    in_string_1 = set(input(\"Enter the String 1: \").split(' '))\n",
    "    in_string_2 = set(input(\"Enter the String 2: \").split(' '))\n",
    "    out_string = (in_string_1.union(in_string_2)).difference(in_string_1.intersection(in_string_2))\n",
    "    print(out_string)\n",
    "\n",
    "unCommonWords()"
   ]
  },
  {
   "cell_type": "code",
   "execution_count": null,
   "id": "3cc81925",
   "metadata": {},
   "outputs": [],
   "source": [
    "6. Write a Python to find all duplicate characters in string ?"
   ]
  },
  {
   "cell_type": "code",
   "execution_count": 11,
   "id": "4c1a37d5",
   "metadata": {},
   "outputs": [
    {
     "name": "stdout",
     "output_type": "stream",
     "text": [
      "Enter the stringfull stack data science course\n",
      "Duplicate characters are: ['s', ' ', 't', 'c', 'a', 'u', 'e', 'l']\n"
     ]
    }
   ],
   "source": [
    "def duplicateChars():\n",
    "    in_string = input('Enter the string')\n",
    "    non_duplicate_list = []\n",
    "    duplicate_list = []\n",
    "    for i in in_string:\n",
    "        if i not in non_duplicate_list:\n",
    "            non_duplicate_list.append(i)\n",
    "        else:\n",
    "            duplicate_list.append(i)\n",
    "    print(f'Duplicate characters are: {list(set(duplicate_list))}')\n",
    "    \n",
    "duplicateChars()    \n",
    "    "
   ]
  },
  {
   "cell_type": "code",
   "execution_count": null,
   "id": "80925403",
   "metadata": {},
   "outputs": [],
   "source": [
    "7. Write a Python Program to check if a string contains any special character?"
   ]
  },
  {
   "cell_type": "code",
   "execution_count": 9,
   "id": "4a0eb2d7",
   "metadata": {},
   "outputs": [
    {
     "name": "stdout",
     "output_type": "stream",
     "text": [
      "Enter the stringDS @ Ineuron by Sudhanshu & krish\n",
      "There are 2 speical characters in DS @ Ineuron by Sudhanshu & krish which are ['@', '&']\n",
      "Enter the stringFull Metal Alchemist : Brotherhood\n",
      "There are 1 speical characters in Full Metal Alchemist : Brotherhood which are [':']\n"
     ]
    }
   ],
   "source": [
    "def checkSpecialChar():\n",
    "    spl_chars = '[@_!#$%^&*()<>?/\\|}{~:]'\n",
    "    in_num = input('Enter the string')\n",
    "    count = 0\n",
    "    char_list = []\n",
    "    for i in in_num:\n",
    "        if i in spl_chars:\n",
    "            char_list.append(i)\n",
    "            count = count +1\n",
    "    print(f'There are {count} speical characters in {in_num} which are {char_list}')\n",
    "\n",
    "checkSpecialChar()\n",
    "checkSpecialChar()"
   ]
  },
  {
   "cell_type": "code",
   "execution_count": null,
   "id": "29ae545a",
   "metadata": {},
   "outputs": [],
   "source": []
  }
 ],
 "metadata": {
  "kernelspec": {
   "display_name": "Python 3 (ipykernel)",
   "language": "python",
   "name": "python3"
  },
  "language_info": {
   "codemirror_mode": {
    "name": "ipython",
    "version": 3
   },
   "file_extension": ".py",
   "mimetype": "text/x-python",
   "name": "python",
   "nbconvert_exporter": "python",
   "pygments_lexer": "ipython3",
   "version": "3.9.7"
  }
 },
 "nbformat": 4,
 "nbformat_minor": 5
}
